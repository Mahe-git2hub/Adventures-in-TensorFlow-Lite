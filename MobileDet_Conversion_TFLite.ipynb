{
  "nbformat": 4,
  "nbformat_minor": 0,
  "metadata": {
    "colab": {
      "name": "MobileDet_Conversion_TFLite.ipynb",
      "provenance": [],
      "collapsed_sections": [],
      "authorship_tag": "ABX9TyPece+lpRIAt5AJhIfw8qpp",
      "include_colab_link": true
    },
    "kernelspec": {
      "name": "python3",
      "display_name": "Python 3"
    }
  },
  "cells": [
    {
      "cell_type": "markdown",
      "metadata": {
        "id": "view-in-github",
        "colab_type": "text"
      },
      "source": [
        "<a href=\"https://colab.research.google.com/github/sayakpaul/Adventures-in-TensorFlow-Lite/blob/master/MobileDet_Conversion_TFLite.ipynb\" target=\"_parent\"><img src=\"https://colab.research.google.com/assets/colab-badge.svg\" alt=\"Open In Colab\"/></a>"
      ]
    },
    {
      "cell_type": "markdown",
      "metadata": {
        "id": "_rz1wbDv58t2",
        "colab_type": "text"
      },
      "source": [
        "In this notebook, we will see how to convert a pre-trained [MobileDet](https://arxiv.org/abs/2004.14525) model to TensorFlow Lite (using the latest converter). As the MobileDet model we are going to be using was trained in TensorFlow 1 we first need to generate a TensorFlow Lite compatible graph file following the instructions from [here](https://github.com/tensorflow/models/blob/master/research/object_detection/g3doc/running_on_mobile_tensorflowlite.md). "
      ]
    },
    {
      "cell_type": "code",
      "metadata": {
        "id": "o2eGYCFBpn3I",
        "colab_type": "code",
        "colab": {
          "base_uri": "https://localhost:8080/",
          "height": 51
        },
        "cellView": "form",
        "outputId": "c79e3d89-b97f-48cc-aafb-dbbabe17cbfd"
      },
      "source": [
        "#@title Initial setup\n",
        "# Because MobileDet is based out of TensorFlow 1\n",
        "%tensorflow_version 1.x\n",
        "import tensorflow as tf\n",
        "print(tf.__version__)\n",
        "\n",
        "!git clone --quiet https://github.com/tensorflow/models.git"
      ],
      "execution_count": 1,
      "outputs": [
        {
          "output_type": "stream",
          "text": [
            "TensorFlow 1.x selected.\n",
            "1.15.2\n"
          ],
          "name": "stdout"
        }
      ]
    },
    {
      "cell_type": "code",
      "metadata": {
        "id": "KjYEUL1w2wYm",
        "colab_type": "code",
        "colab": {},
        "cellView": "form"
      },
      "source": [
        "#@title Install the TFOD API\n",
        "%%bash\n",
        "pip install --upgrade pip\n",
        "cd models/research\n",
        "# Compile protos.\n",
        "protoc object_detection/protos/*.proto --python_out=.\n",
        "# Install TensorFlow Object Detection API.\n",
        "cp object_detection/packages/tf1/setup.py .\n",
        "python -m pip install --use-feature=2020-resolver ."
      ],
      "execution_count": null,
      "outputs": []
    },
    {
      "cell_type": "markdown",
      "metadata": {
        "id": "5VDEt_UG6dAS",
        "colab_type": "text"
      },
      "source": [
        "## Export to TFLite compatible graph"
      ]
    },
    {
      "cell_type": "code",
      "metadata": {
        "id": "My3UgMuro4av",
        "colab_type": "code",
        "cellView": "form",
        "colab": {}
      },
      "source": [
        "#@title Fetch the checkpoints\n",
        "#@markdown Model checkpoints are listed [here](https://github.com/tensorflow/models/blob/master/research/object_detection/g3doc/tf1_detection_zoo.md).\n",
        "mobiledet_checkpoint_name = \"ssd_mobiledet_edgetpu_coco\" #@param [\"ssd_mobiledet_cpu_coco\", \"ssd_mobiledet_edgetpu_coco\", \"ssd_mobiledet_dsp_coco\"]\n",
        "\n",
        "checkpoint_dict = {\n",
        "    \"ssd_mobiledet_cpu_coco\": \"http://download.tensorflow.org/models/object_detection/ssdlite_mobiledet_cpu_320x320_coco_2020_05_19.tar.gz\",\n",
        "    \"ssd_mobiledet_edgetpu_coco\": \"http://download.tensorflow.org/models/object_detection/ssdlite_mobiledet_edgetpu_320x320_coco_2020_05_19.tar.gz\",\n",
        "    \"ssd_mobiledet_dsp_coco\": \"http://download.tensorflow.org/models/object_detection/ssdlite_mobiledet_dsp_320x320_coco_2020_05_19.tar.gz\"\n",
        "}\n",
        "\n",
        "folder_name_dict = {\n",
        "    \"ssd_mobiledet_cpu_coco\": \"ssdlite_mobiledet_cpu_320x320_coco_2020_05_19\",\n",
        "    \"ssd_mobiledet_edgetpu_coco\": \"ssdlite_mobiledet_edgetpu_320x320_coco_2020_05_19\",\n",
        "    \"ssd_mobiledet_dsp_coco\": \"ssdlite_mobiledet_dsp_320x320_coco_2020_05_19\"\n",
        "}\n",
        "\n",
        "checkpoint_selected = checkpoint_dict[mobiledet_checkpoint_name]\n",
        "folder_name = folder_name_dict[mobiledet_checkpoint_name]\n",
        "\n",
        "# Get the pre-trained MobileDet checkpoints\n",
        "!rm -rf folder_name\n",
        "!wget -q $checkpoint_selected -O checkpoints.tar.gz\n",
        "!tar -xvf checkpoints.tar.gz"
      ],
      "execution_count": null,
      "outputs": []
    },
    {
      "cell_type": "code",
      "metadata": {
        "id": "iNHGgnaLpXhc",
        "colab_type": "code",
        "cellView": "form",
        "colab": {}
      },
      "source": [
        "#@title Export a TFLite compatible model graph\n",
        "#@markdown - For DSP & EdgeTPU provide `fp32` or `uint8` to the `trained_checkpoint_prefix` and `pipeline_config_path` arguments.\n",
        "\n",
        "!python /content/models/research/object_detection/export_tflite_ssd_graph.py \\\n",
        "    --pipeline_config_path=$folder_name/fp32/pipeline.config \\\n",
        "    --trained_checkpoint_prefix=$folder_name//fp32/model.ckpt-400000 \\\n",
        "    --output_directory=`pwd` \\\n",
        "    --add_postprocessing_op=true"
      ],
      "execution_count": null,
      "outputs": []
    },
    {
      "cell_type": "code",
      "metadata": {
        "id": "aeoQRXHb5qNF",
        "colab_type": "code",
        "colab": {
          "base_uri": "https://localhost:8080/",
          "height": 34
        },
        "outputId": "c166296b-557c-4cd3-e6d6-38ebf47e0421"
      },
      "source": [
        "# Check the graph\n",
        "!ls -lh *.pb"
      ],
      "execution_count": 5,
      "outputs": [
        {
          "output_type": "stream",
          "text": [
            "-rw-r--r-- 1 root root 17M Sep 11 06:59 tflite_graph.pb\n"
          ],
          "name": "stdout"
        }
      ]
    },
    {
      "cell_type": "markdown",
      "metadata": {
        "id": "wR45aPlf5vI-",
        "colab_type": "text"
      },
      "source": [
        "We now need to switch to TensorFlow 2 runtime. We need to restart our Colab runtime first. "
      ]
    },
    {
      "cell_type": "markdown",
      "metadata": {
        "id": "_tZ6kCnv6ktt",
        "colab_type": "text"
      },
      "source": [
        "## Export to TFLite"
      ]
    },
    {
      "cell_type": "code",
      "metadata": {
        "id": "lmDgMRl-2Ggi",
        "colab_type": "code",
        "colab": {
          "base_uri": "https://localhost:8080/",
          "height": 34
        },
        "cellView": "form",
        "outputId": "abb73290-564a-4088-8d4f-1a227b31ac50"
      },
      "source": [
        "#@title Initial setup\n",
        "%tensorflow_version 2.x\n",
        "import tensorflow as tf\n",
        "print(tf.__version__)"
      ],
      "execution_count": 1,
      "outputs": [
        {
          "output_type": "stream",
          "text": [
            "2.3.0\n"
          ],
          "name": "stdout"
        }
      ]
    },
    {
      "cell_type": "markdown",
      "metadata": {
        "id": "28rej2Ot7NKu",
        "colab_type": "text"
      },
      "source": [
        "As the `.pb` file we generated in the earlier step is a frozen graph, we need to use `tf.compat.v1.lite.TFLiteConverter.from_frozen_graph` to convert it to TFLite. "
      ]
    },
    {
      "cell_type": "code",
      "metadata": {
        "id": "D9PR2C9u6qo9",
        "colab_type": "code",
        "colab": {
          "base_uri": "https://localhost:8080/",
          "height": 34
        },
        "cellView": "form",
        "outputId": "3baf06af-3e99-45a7-c803-544d7a7d4269"
      },
      "source": [
        "#@title Quantize and serialize\n",
        "converter = tf.compat.v1.lite.TFLiteConverter.from_frozen_graph(\n",
        "    graph_def_file='tflite_graph.pb', \n",
        "    input_arrays=['normalized_input_image_tensor'],\n",
        "    output_arrays=['raw_outputs/box_encodings', 'raw_outputs/class_predictions', 'anchors'],\n",
        "    input_shapes={'normalized_input_image_tensor': [1, 320, 320, 3]}\n",
        ")\n",
        "\n",
        "converter.optimizations = [tf.lite.Optimize.DEFAULT]\n",
        "tflite_model = converter.convert()\n",
        "\n",
        "open('mobiledet.tflite', 'wb').write(tflite_model)\n",
        "!ls -lh mobiledet.tflite"
      ],
      "execution_count": 2,
      "outputs": [
        {
          "output_type": "stream",
          "text": [
            "-rw-r--r-- 1 root root 4.2M Sep 11 07:00 mobiledet.tflite\n"
          ],
          "name": "stdout"
        }
      ]
    }
  ]
}